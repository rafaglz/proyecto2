{
 "cells": [
  {
   "cell_type": "markdown",
   "metadata": {},
   "source": [
    "## Mecánica de fluidos en Python"
   ]
  },
  {
   "cell_type": "markdown",
   "metadata": {},
   "source": [
    "####  Objetivo general.\n",
    "\n",
    "- Realizar problemas de ecuaciones diferenciales usando ODEINT de Python\n",
    "\n",
    "\n",
    "#### Objetivos específicos\n",
    "\n",
    "- Analizar el comportamiento de los fluidos en una simulación\n",
    "- Ver el comportamiento en el tiempo sobre el llenado de tanques con ciertas condiciones ya establecidas\n"
   ]
  },
  {
   "cell_type": "markdown",
   "metadata": {
    "collapsed": true
   },
   "source": [
    "## Modelo que representa el problema \n",
    "\n",
    "Tanques cilíndricos drenados con doble gravedad con un área de sección transversal constante ($Ac = 2 m^2$) y una altura máxima de 1 m. Si el tanque se llena, el exceso de fluido se pierde. Hay un flujo de entrada $q_{in}$, un flujo de salida intermedio desde el tanque 1 al tanque 2 como $q_{out1}$, y un flujo de salida final como $q_{out2}$. Todos los flujos están en unidades de m3 / hora y las alturas se informan en unidades de m.\n",
    "\n",
    "\n",
    "Se usa un balance de masa en cada tanque para derivar las siguientes ecuaciones que relacionan el flujo de entrada a la altura de los tanques.\n",
    "\n",
    "$A_{c} \\frac {dh1} {dt}   = q_{in} - q_{out1}$\n",
    "\n",
    "$A_{c} \\frac {dh2} {dt} = q_{out1} - q_{out2}$\n",
    "\n",
    "\n",
    "\n",
    "La tasa de flujo de salida para cada tanque depende de la altura en el tanque\n",
    "de acuerdo con la ecuación de Bernoulli para fluidos incompresibles como:\n",
    "\n",
    "$ q_{out1} = c1 * {h1}^{1/2} $ \n",
    "\n",
    "$ q_{out2} = c2 * {h2}^{1/2} $ \n",
    "\n",
    "Los tanques están inicialmente vacíos cuando la entrada al tanque 1 comienza a fluir a una\n",
    "tasa de $0.5{ m^3 / h}$ .\n",
    "\n",
    "\n",
    "\n",
    "Resuelva para las alturas (h1 y h2) como funciones del tiempo con c1 = 0.13 y c2 = 0.20. Use un tamaño de paso de tiempo de dt = 0.5 hr y resuelva a t = 10 hr.\n"
   ]
  },
  {
   "cell_type": "markdown",
   "metadata": {},
   "source": [
    "## Simulación "
   ]
  },
  {
   "cell_type": "code",
   "execution_count": 2,
   "metadata": {
    "collapsed": true
   },
   "outputs": [],
   "source": [
    "import numpy as np\n",
    "import matplotlib.pyplot as plt\n",
    "%matplotlib inline\n",
    "from scipy.integrate import odeint"
   ]
  },
  {
   "cell_type": "code",
   "execution_count": 3,
   "metadata": {
    "collapsed": true
   },
   "outputs": [],
   "source": [
    "def tanque (altura , t):\n",
    "    # constants\n",
    "    c1 = .13\n",
    "    c2 = .2\n",
    "    \n",
    "    Ac = 2\n",
    "    \n",
    "    #inflow\n",
    "    q_in = .5\n",
    "    \n",
    "    # outflow\n",
    "    qout1 = c1 * altura[0]**0.5\n",
    "    qout2 = c2 * altura[1]**0.5\n",
    "    \n",
    "    \n",
    "    # ecuaciones diferenciales\n",
    "    dAdt1 = (q_in   - qout1) / Ac\n",
    "    dAdt2 = (qout1 - qout2) / Ac\n",
    "    \n",
    "    if altura[0]>=1 and dAdt1>=0:\n",
    "           dAdt1 = 0\n",
    "    elif altura[1]>=1 and dAdt2>=0:\n",
    "           dAdt2 = 0\n",
    " \n",
    "    \n",
    "    d_alt = [dAdt1,dAdt2]\n",
    "    return d_alt"
   ]
  },
  {
   "cell_type": "code",
   "execution_count": 4,
   "metadata": {
    "collapsed": true
   },
   "outputs": [],
   "source": [
    "alt0 = [0,0]\n",
    "t = np.linspace (0,10,21)"
   ]
  },
  {
   "cell_type": "code",
   "execution_count": 5,
   "metadata": {
    "collapsed": true
   },
   "outputs": [],
   "source": [
    "y =odeint ( tanque , alt0, t)"
   ]
  },
  {
   "cell_type": "markdown",
   "metadata": {},
   "source": [
    "## Visualización de resultados de simulación "
   ]
  },
  {
   "cell_type": "code",
   "execution_count": 7,
   "metadata": {},
   "outputs": [
    {
     "data": {
      "image/png": "[encoded data removed]",
      "text/plain": [
       "<matplotlib.figure.Figure at 0x10dcb8c18>"
      ]
     },
     "metadata": {},
     "output_type": "display_data"
    }
   ],
   "source": [
    "plt.figure(1)\n",
    "plt.plot(t,y[:,0],'b-')\n",
    "plt.plot(t,y[:,1],'r--')\n",
    "plt.xlabel('Tiempo (hrs)')\n",
    "plt.ylabel('Altura (mts)')\n",
    "plt.legend(['tanque1','tanque2'])\n",
    "plt.show()"
   ]
  },
  {
   "cell_type": "markdown",
   "metadata": {},
   "source": [
    "## Conclusiones"
   ]
  },
  {
   "cell_type": "markdown",
   "metadata": {},
   "source": [
    "Podemos observar en nuestro modelo, que en un tiempo de 10 hrs, en un determinado momento, el tanque 1 si logra llenarse por completo, y el agua sigue pasando a través del tanque 2 y saliendo de él. En este tiempo, el tanque 2 por la fuga que tiene, no logra llenarse, y aunque prolonguemos el tiempo, llega a un límite de llenado donde no pasará de ahí. "
   ]
  },
  {
   "cell_type": "markdown",
   "metadata": {
    "collapsed": true
   },
   "source": [
    "## Referencias "
   ]
  },
  {
   "cell_type": "markdown",
   "metadata": {},
   "source": [
    "Simmons, G. F., Abellanas Rapun, L., & Robertson, J. S. (1993). Ecuaciones diferenciales: con aplicaciones y notas históricas. McGraw-Hill Interamericana,.\n"
   ]
  }
 ],
 "metadata": {
  "kernelspec": {
   "display_name": "Python 3",
   "language": "python",
   "name": "python3"
  },
  "language_info": {
   "codemirror_mode": {
    "name": "ipython",
    "version": 3
   },
   "file_extension": ".py",
   "mimetype": "text/x-python",
   "name": "python",
   "nbconvert_exporter": "python",
   "pygments_lexer": "ipython3",
   "version": "3.6.2"
  }
 },
 "nbformat": 4,
 "nbformat_minor": 2
}
